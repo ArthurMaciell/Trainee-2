{
 "cells": [
  {
   "cell_type": "code",
   "execution_count": 1,
   "metadata": {},
   "outputs": [],
   "source": [
    "import numpy as np\n",
    "import pandas as pd\n",
    "import statistics\n",
    "import matplotlib.pyplot as plt\n",
    "from collections import Counter\n"
   ]
  },
  {
   "cell_type": "markdown",
   "metadata": {},
   "source": [
    "K-Nearest Neighbors Classifier"
   ]
  },
  {
   "cell_type": "code",
   "execution_count": 25,
   "metadata": {},
   "outputs": [],
   "source": [
    "class KNN_Classifier():\n",
    "    # começar os parâmetros\n",
    "    def __init__(self, distance_metric):\n",
    "        self.get_distance_metric = distance_metric\n",
    "\n",
    "    #distância entre os dados\n",
    "    def get_distance_metric(self, training_data_point, test_data_point):\n",
    "        if(self.distance_metric =='euclidean'):\n",
    "            dist = 0 \n",
    "            for i in range(len(training_data_point) -1):\n",
    "                dist = dist +(training_data_point[i]-test_data_point\n",
    "                              [i])**2\n",
    "            euclidean_dist =np.sqrt(dist)\n",
    "            return euclidean_dist  \n",
    "        elif (self.distance_metric == 'manhattan'):\n",
    "            dist = 0\n",
    "            for i in range(len(training_data_point) - 1):\n",
    "                dist = dist + abs(training_data_point[i]-test_data_point[i])\n",
    "            manhattan_dist = dist\n",
    "            return manhattan_dist\n",
    "        \n",
    "    #pegando o nearest neighboors           \n",
    "    def nearest_neighbors(self, X_train, test_data, k):\n",
    "        distance_list = []\n",
    "\n",
    "        for training_data  in X_train:\n",
    "\n",
    "            distance = self.get_distance_metric(training_data, test_data)\n",
    "            distance_list.append(training_data,distance)\n",
    "\n",
    "        distance_list.sort(key=lambda x:x[1]) \n",
    "        neighbors_list = []\n",
    "\n",
    "        for j in range(k):\n",
    "            neighbors_list.append(distance_list[j][0])\n",
    "\n",
    "        return neighbors_list\n",
    "    \n",
    "\n",
    "    def predict(self,X_train,test_data,k):\n",
    "        neighbors = self.nearest_neighbors(X_train,test_data,k)\n",
    "\n",
    "        for data in neighbors:\n",
    "            label = []\n",
    "            label.append(data[-1])\n",
    "        \n",
    "        \n",
    "        predicted_class = statistics.mode(label)\n",
    "        return predicted_class\n",
    "\n",
    "\n"
   ]
  },
  {
   "cell_type": "code",
   "execution_count": 3,
   "metadata": {},
   "outputs": [],
   "source": [
    "#carregando o data set\n",
    "vinhos = pd.read_csv('winequality.csv')"
   ]
  },
  {
   "cell_type": "code",
   "execution_count": 4,
   "metadata": {},
   "outputs": [
    {
     "data": {
      "text/html": [
       "<div>\n",
       "<style scoped>\n",
       "    .dataframe tbody tr th:only-of-type {\n",
       "        vertical-align: middle;\n",
       "    }\n",
       "\n",
       "    .dataframe tbody tr th {\n",
       "        vertical-align: top;\n",
       "    }\n",
       "\n",
       "    .dataframe thead th {\n",
       "        text-align: right;\n",
       "    }\n",
       "</style>\n",
       "<table border=\"1\" class=\"dataframe\">\n",
       "  <thead>\n",
       "    <tr style=\"text-align: right;\">\n",
       "      <th></th>\n",
       "      <th>Unnamed: 0</th>\n",
       "      <th>fixed acidity</th>\n",
       "      <th>volatile acidity</th>\n",
       "      <th>citric acid</th>\n",
       "      <th>residual sugar</th>\n",
       "      <th>chlorides</th>\n",
       "      <th>free sulfur dioxide</th>\n",
       "      <th>total sulfur dioxide</th>\n",
       "      <th>density</th>\n",
       "      <th>pH</th>\n",
       "      <th>sulphates</th>\n",
       "      <th>alcohol</th>\n",
       "      <th>quality</th>\n",
       "      <th>wine_is_red</th>\n",
       "    </tr>\n",
       "  </thead>\n",
       "  <tbody>\n",
       "    <tr>\n",
       "      <th>0</th>\n",
       "      <td>0</td>\n",
       "      <td>5.9</td>\n",
       "      <td>0.61</td>\n",
       "      <td>0.08</td>\n",
       "      <td>2.1</td>\n",
       "      <td>0.071</td>\n",
       "      <td>16.0</td>\n",
       "      <td>24.0</td>\n",
       "      <td>0.99376</td>\n",
       "      <td>3.56</td>\n",
       "      <td>0.77</td>\n",
       "      <td>11.1</td>\n",
       "      <td>6</td>\n",
       "      <td>1</td>\n",
       "    </tr>\n",
       "    <tr>\n",
       "      <th>1</th>\n",
       "      <td>1</td>\n",
       "      <td>8.2</td>\n",
       "      <td>1.00</td>\n",
       "      <td>0.09</td>\n",
       "      <td>2.3</td>\n",
       "      <td>0.065</td>\n",
       "      <td>7.0</td>\n",
       "      <td>37.0</td>\n",
       "      <td>0.99685</td>\n",
       "      <td>3.32</td>\n",
       "      <td>0.55</td>\n",
       "      <td>9.0</td>\n",
       "      <td>6</td>\n",
       "      <td>1</td>\n",
       "    </tr>\n",
       "    <tr>\n",
       "      <th>2</th>\n",
       "      <td>2</td>\n",
       "      <td>6.4</td>\n",
       "      <td>0.24</td>\n",
       "      <td>0.49</td>\n",
       "      <td>5.8</td>\n",
       "      <td>0.053</td>\n",
       "      <td>25.0</td>\n",
       "      <td>120.0</td>\n",
       "      <td>0.99420</td>\n",
       "      <td>3.01</td>\n",
       "      <td>0.98</td>\n",
       "      <td>10.5</td>\n",
       "      <td>6</td>\n",
       "      <td>0</td>\n",
       "    </tr>\n",
       "    <tr>\n",
       "      <th>3</th>\n",
       "      <td>3</td>\n",
       "      <td>6.6</td>\n",
       "      <td>0.23</td>\n",
       "      <td>0.26</td>\n",
       "      <td>1.3</td>\n",
       "      <td>0.045</td>\n",
       "      <td>16.0</td>\n",
       "      <td>128.0</td>\n",
       "      <td>0.99340</td>\n",
       "      <td>3.36</td>\n",
       "      <td>0.60</td>\n",
       "      <td>10.0</td>\n",
       "      <td>6</td>\n",
       "      <td>0</td>\n",
       "    </tr>\n",
       "    <tr>\n",
       "      <th>4</th>\n",
       "      <td>4</td>\n",
       "      <td>7.2</td>\n",
       "      <td>0.24</td>\n",
       "      <td>0.29</td>\n",
       "      <td>3.0</td>\n",
       "      <td>0.036</td>\n",
       "      <td>17.0</td>\n",
       "      <td>117.0</td>\n",
       "      <td>0.99411</td>\n",
       "      <td>3.36</td>\n",
       "      <td>0.68</td>\n",
       "      <td>10.1</td>\n",
       "      <td>6</td>\n",
       "      <td>0</td>\n",
       "    </tr>\n",
       "  </tbody>\n",
       "</table>\n",
       "</div>"
      ],
      "text/plain": [
       "   Unnamed: 0  fixed acidity  volatile acidity  citric acid  residual sugar  \\\n",
       "0           0            5.9              0.61         0.08             2.1   \n",
       "1           1            8.2              1.00         0.09             2.3   \n",
       "2           2            6.4              0.24         0.49             5.8   \n",
       "3           3            6.6              0.23         0.26             1.3   \n",
       "4           4            7.2              0.24         0.29             3.0   \n",
       "\n",
       "   chlorides  free sulfur dioxide  total sulfur dioxide  density    pH  \\\n",
       "0      0.071                 16.0                  24.0  0.99376  3.56   \n",
       "1      0.065                  7.0                  37.0  0.99685  3.32   \n",
       "2      0.053                 25.0                 120.0  0.99420  3.01   \n",
       "3      0.045                 16.0                 128.0  0.99340  3.36   \n",
       "4      0.036                 17.0                 117.0  0.99411  3.36   \n",
       "\n",
       "   sulphates  alcohol  quality  wine_is_red  \n",
       "0       0.77     11.1        6            1  \n",
       "1       0.55      9.0        6            1  \n",
       "2       0.98     10.5        6            0  \n",
       "3       0.60     10.0        6            0  \n",
       "4       0.68     10.1        6            0  "
      ]
     },
     "execution_count": 4,
     "metadata": {},
     "output_type": "execute_result"
    }
   ],
   "source": [
    "vinhos.head()"
   ]
  },
  {
   "cell_type": "code",
   "execution_count": 5,
   "metadata": {},
   "outputs": [
    {
     "data": {
      "text/plain": [
       "(6497, 14)"
      ]
     },
     "execution_count": 5,
     "metadata": {},
     "output_type": "execute_result"
    }
   ],
   "source": [
    "vinhos.shape"
   ]
  },
  {
   "cell_type": "code",
   "execution_count": 6,
   "metadata": {},
   "outputs": [],
   "source": [
    "X = vinhos.drop(columns='wine_is_red', axis =1)\n",
    "Y = vinhos['wine_is_red']"
   ]
  },
  {
   "cell_type": "code",
   "execution_count": 7,
   "metadata": {},
   "outputs": [],
   "source": [
    "X = X.to_numpy()\n",
    "Y = Y.to_numpy()"
   ]
  },
  {
   "cell_type": "code",
   "execution_count": 8,
   "metadata": {},
   "outputs": [
    {
     "name": "stdout",
     "output_type": "stream",
     "text": [
      "[[0.000e+00 5.900e+00 6.100e-01 ... 7.700e-01 1.110e+01 6.000e+00]\n",
      " [1.000e+00 8.200e+00 1.000e+00 ... 5.500e-01 9.000e+00 6.000e+00]\n",
      " [2.000e+00 6.400e+00 2.400e-01 ... 9.800e-01 1.050e+01 6.000e+00]\n",
      " ...\n",
      " [6.494e+03 7.900e+00 3.300e-01 ... 3.800e-01 8.800e+00 6.000e+00]\n",
      " [6.495e+03 7.000e+00 3.000e-01 ... 5.700e-01 1.140e+01 5.000e+00]\n",
      " [6.496e+03 6.400e+00 2.200e-01 ... 5.200e-01 1.010e+01 6.000e+00]]\n",
      "[1 1 0 ... 0 0 0]\n"
     ]
    }
   ],
   "source": [
    "print(X)\n",
    "print(Y)"
   ]
  },
  {
   "cell_type": "code",
   "execution_count": 9,
   "metadata": {},
   "outputs": [],
   "source": [
    "from sklearn.model_selection import train_test_split\n",
    "from sklearn.metrics import accuracy_score"
   ]
  },
  {
   "cell_type": "code",
   "execution_count": 10,
   "metadata": {},
   "outputs": [],
   "source": [
    "X_train, X_test, Y_train, Y_test = train_test_split(X, Y, test_size = 0.2, stratify = Y, random_state=2)"
   ]
  },
  {
   "cell_type": "code",
   "execution_count": 11,
   "metadata": {},
   "outputs": [
    {
     "name": "stdout",
     "output_type": "stream",
     "text": [
      "(6497, 13) (5197, 13) (1300, 13)\n"
     ]
    }
   ],
   "source": [
    "print(X.shape, X_train.shape, X_test.shape)"
   ]
  },
  {
   "cell_type": "code",
   "execution_count": 12,
   "metadata": {},
   "outputs": [
    {
     "name": "stdout",
     "output_type": "stream",
     "text": [
      "[[8.600e+02 7.900e+00 1.600e-01 ... 5.100e-01 9.300e+00 7.000e+00]\n",
      " [6.303e+03 6.900e+00 2.000e-01 ... 5.600e-01 1.100e+01 6.000e+00]\n",
      " [6.261e+03 7.600e+00 4.200e-01 ... 5.700e-01 9.100e+00 5.000e+00]\n",
      " ...\n",
      " [4.635e+03 6.100e+00 2.700e-01 ... 4.700e-01 9.000e+00 5.000e+00]\n",
      " [2.018e+03 6.900e+00 1.800e-01 ... 5.400e-01 9.800e+00 6.000e+00]\n",
      " [1.847e+03 6.000e+00 2.400e-01 ... 5.400e-01 1.000e+01 7.000e+00]]\n"
     ]
    }
   ],
   "source": [
    "print(X_train)"
   ]
  },
  {
   "cell_type": "code",
   "execution_count": 13,
   "metadata": {},
   "outputs": [
    {
     "name": "stdout",
     "output_type": "stream",
     "text": [
      "[0 0 1 ... 0 0 0]\n"
     ]
    }
   ],
   "source": [
    "print(Y_train)"
   ]
  },
  {
   "cell_type": "code",
   "execution_count": 14,
   "metadata": {},
   "outputs": [],
   "source": [
    "X_train = np.insert(X_train, 13, Y_train, axis = 1)"
   ]
  },
  {
   "cell_type": "code",
   "execution_count": 15,
   "metadata": {},
   "outputs": [
    {
     "name": "stdout",
     "output_type": "stream",
     "text": [
      "[[8.600e+02 7.900e+00 1.600e-01 ... 9.300e+00 7.000e+00 0.000e+00]\n",
      " [6.303e+03 6.900e+00 2.000e-01 ... 1.100e+01 6.000e+00 0.000e+00]\n",
      " [6.261e+03 7.600e+00 4.200e-01 ... 9.100e+00 5.000e+00 1.000e+00]\n",
      " ...\n",
      " [4.635e+03 6.100e+00 2.700e-01 ... 9.000e+00 5.000e+00 0.000e+00]\n",
      " [2.018e+03 6.900e+00 1.800e-01 ... 9.800e+00 6.000e+00 0.000e+00]\n",
      " [1.847e+03 6.000e+00 2.400e-01 ... 1.000e+01 7.000e+00 0.000e+00]]\n"
     ]
    }
   ],
   "source": [
    "print(X_train)"
   ]
  },
  {
   "cell_type": "code",
   "execution_count": 16,
   "metadata": {},
   "outputs": [
    {
     "data": {
      "text/plain": [
       "(5197, 14)"
      ]
     },
     "execution_count": 16,
     "metadata": {},
     "output_type": "execute_result"
    }
   ],
   "source": [
    "X_train.shape"
   ]
  },
  {
   "cell_type": "code",
   "execution_count": 17,
   "metadata": {},
   "outputs": [],
   "source": [
    "classifier = KNN_Classifier(distance_metric='euclidean')"
   ]
  },
  {
   "cell_type": "code",
   "execution_count": 24,
   "metadata": {},
   "outputs": [
    {
     "ename": "TypeError",
     "evalue": "'str' object is not callable",
     "output_type": "error",
     "traceback": [
      "\u001b[1;31m---------------------------------------------------------------------------\u001b[0m",
      "\u001b[1;31mTypeError\u001b[0m                                 Traceback (most recent call last)",
      "Cell \u001b[1;32mIn[24], line 1\u001b[0m\n\u001b[1;32m----> 1\u001b[0m prediction \u001b[39m=\u001b[39m classifier\u001b[39m.\u001b[39;49mpredict(X_train, X_test[\u001b[39m1\u001b[39;49m], k\u001b[39m=\u001b[39;49m\u001b[39m5\u001b[39;49m)\n\u001b[0;32m      3\u001b[0m \u001b[39mprint\u001b[39m(prediction)\n",
      "Cell \u001b[1;32mIn[2], line 41\u001b[0m, in \u001b[0;36mKNN_Classifier.predict\u001b[1;34m(self, X_train, test_data, k)\u001b[0m\n\u001b[0;32m     40\u001b[0m \u001b[39mdef\u001b[39;00m \u001b[39mpredict\u001b[39m(\u001b[39mself\u001b[39m,X_train,test_data,k):\n\u001b[1;32m---> 41\u001b[0m     neighbors \u001b[39m=\u001b[39m \u001b[39mself\u001b[39;49m\u001b[39m.\u001b[39;49mnearest_neighbors(X_train,test_data,k)\n\u001b[0;32m     43\u001b[0m     \u001b[39mfor\u001b[39;00m data \u001b[39min\u001b[39;00m neighbors:\n\u001b[0;32m     44\u001b[0m         label \u001b[39m=\u001b[39m []\n",
      "Cell \u001b[1;32mIn[2], line 28\u001b[0m, in \u001b[0;36mKNN_Classifier.nearest_neighbors\u001b[1;34m(self, X_train, test_data, k)\u001b[0m\n\u001b[0;32m     24\u001b[0m distance_list \u001b[39m=\u001b[39m []\n\u001b[0;32m     26\u001b[0m \u001b[39mfor\u001b[39;00m training_data  \u001b[39min\u001b[39;00m X_train:\n\u001b[1;32m---> 28\u001b[0m     distance \u001b[39m=\u001b[39m \u001b[39mself\u001b[39;49m\u001b[39m.\u001b[39;49mget_distance_metric(training_data, test_data)\n\u001b[0;32m     29\u001b[0m     distance_list\u001b[39m.\u001b[39mappend(training_data,distance)\n\u001b[0;32m     31\u001b[0m distance_list\u001b[39m.\u001b[39msort(key\u001b[39m=\u001b[39m\u001b[39mlambda\u001b[39;00m x:x[\u001b[39m1\u001b[39m]) \n",
      "\u001b[1;31mTypeError\u001b[0m: 'str' object is not callable"
     ]
    }
   ],
   "source": [
    "prediction = classifier.predict(X_train, X_test[1], k=5)\n",
    "\n",
    "print(prediction)"
   ]
  }
 ],
 "metadata": {
  "kernelspec": {
   "display_name": "Python 3",
   "language": "python",
   "name": "python3"
  },
  "language_info": {
   "codemirror_mode": {
    "name": "ipython",
    "version": 3
   },
   "file_extension": ".py",
   "mimetype": "text/x-python",
   "name": "python",
   "nbconvert_exporter": "python",
   "pygments_lexer": "ipython3",
   "version": "3.11.4"
  },
  "orig_nbformat": 4
 },
 "nbformat": 4,
 "nbformat_minor": 2
}
